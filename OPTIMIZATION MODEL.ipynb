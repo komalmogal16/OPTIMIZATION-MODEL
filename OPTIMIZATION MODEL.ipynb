{
 "cells": [
  {
   "cell_type": "code",
   "execution_count": 5,
   "id": "24f07f59-2760-48a7-8985-56fa44bad95b",
   "metadata": {},
   "outputs": [],
   "source": [
    "import pulp"
   ]
  },
  {
   "cell_type": "code",
   "execution_count": 6,
   "id": "30c27541-e8c3-4de0-b9ac-24a3a6b7c679",
   "metadata": {},
   "outputs": [],
   "source": [
    "# Step 1: Define the problem\n",
    "# Create a Linear Programming problem\n",
    "problem = pulp.LpProblem(\"Product_Mix_Optimization\", pulp.LpMaximize)"
   ]
  },
  {
   "cell_type": "code",
   "execution_count": 7,
   "id": "2919c453-5756-46a0-a447-7987dfc2282f",
   "metadata": {},
   "outputs": [],
   "source": [
    "# Step 2: Define decision variables\n",
    "A = pulp.LpVariable(\"A\", lowBound=0, cat='Continuous')  # Number of units of Product A\n",
    "B = pulp.LpVariable(\"B\", lowBound=0, cat='Continuous')  # Number of units of Product B"
   ]
  },
  {
   "cell_type": "code",
   "execution_count": 8,
   "id": "b2479d97-6d8a-4037-93ec-ffd0266da023",
   "metadata": {},
   "outputs": [],
   "source": [
    "# Step 3: Define the objective function (maximize profit)\n",
    "problem += 3 * A + 4 * B, \"Total Profit\""
   ]
  },
  {
   "cell_type": "code",
   "execution_count": 9,
   "id": "b7eb26f0-7ddb-480c-8714-7a74c873e8b4",
   "metadata": {},
   "outputs": [],
   "source": [
    "# Step 4: Define the constraints\n",
    "problem += 2 * A + 4 * B <= 100, \"Raw Material Constraint\"\n",
    "problem += 3 * A + 2 * B <= 120, \"Labor Hours Constraint\"\n"
   ]
  },
  {
   "cell_type": "code",
   "execution_count": 10,
   "id": "890fa8f5-d57b-41db-9d0d-5fc834dbef75",
   "metadata": {},
   "outputs": [
    {
     "data": {
      "text/plain": [
       "1"
      ]
     },
     "execution_count": 10,
     "metadata": {},
     "output_type": "execute_result"
    }
   ],
   "source": [
    "# Step 5: Solve the problem\n",
    "problem.solve()"
   ]
  },
  {
   "cell_type": "code",
   "execution_count": 11,
   "id": "e2de84d7-0661-4bf6-90a6-716bdbca47d7",
   "metadata": {},
   "outputs": [
    {
     "name": "stdout",
     "output_type": "stream",
     "text": [
      "Status: Optimal\n",
      "Optimal number of units for Product A: 35.0\n",
      "Optimal number of units for Product B: 7.5\n",
      "Maximum profit: $135.0\n"
     ]
    }
   ],
   "source": [
    "# Step 6: Display the results\n",
    "print(f\"Status: {pulp.LpStatus[problem.status]}\")\n",
    "print(f\"Optimal number of units for Product A: {A.varValue}\")\n",
    "print(f\"Optimal number of units for Product B: {B.varValue}\")\n",
    "print(f\"Maximum profit: ${pulp.value(problem.objective)}\")"
   ]
  },
  {
   "cell_type": "code",
   "execution_count": null,
   "id": "dd2814e5-aa9a-4ad7-99db-f6b2ba1609eb",
   "metadata": {},
   "outputs": [],
   "source": []
  }
 ],
 "metadata": {
  "kernelspec": {
   "display_name": "Python 3 (ipykernel)",
   "language": "python",
   "name": "python3"
  },
  "language_info": {
   "codemirror_mode": {
    "name": "ipython",
    "version": 3
   },
   "file_extension": ".py",
   "mimetype": "text/x-python",
   "name": "python",
   "nbconvert_exporter": "python",
   "pygments_lexer": "ipython3",
   "version": "3.12.7"
  }
 },
 "nbformat": 4,
 "nbformat_minor": 5
}
